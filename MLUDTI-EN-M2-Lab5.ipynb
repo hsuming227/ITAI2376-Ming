{
 "cells": [
  {
   "cell_type": "markdown",
   "id": "bc91120c",
   "metadata": {},
   "source": [
    "<center><img src=\"images/logo.png\" alt=\"drawing\" width=\"400\" style=\"background-color:white; padding:1em;\" /></center> <br/>\n",
    "\n",
    "# Application of Deep Learning to Text and Image Data\n",
    "## Module 2, Lab 5: Finetuning BERT\n",
    "\n",
    "\n",
    "BERT stands for **B**idirectional **E**ncoder **R**epresentations from **T**ransformers. To learn how BERT works, let's fine-tune the __BERT__ model to classify product reviews. You will use a new library called __transformers__ to download a pre-trained BERT model. \n",
    "\n",
    "You will learn:\n",
    "\n",
    "- How to load and format the dataset\n",
    "- How to load the pre-trained model\n",
    "- How to train and test the model\n",
    "\n",
    "__BERT and its variants use more resources than the other models you have used so far. This may cause your instance to run out of memory. If that happens:__\n",
    "\n",
    "- Restart the kernel (Kernel->Restart from the top menu)\n",
    "- Reduce the batch size \n",
    "- Then re-run the code\n",
    "\n",
    "\n",
    "\n",
    "__Note__: In this walkthrough, you will use a light version of the original BERT implementation called __\"DistilBert\"__. You can checkout [the paper](https://arxiv.org/pdf/1910.01108.pdf) about it for more details. \n",
    "\n",
    "---\n",
    "This lab uses a dataset derived from a small sample of Amazon product reviews. \n",
    "\n",
    "__Review dataset schema:__\n",
    "* __reviewText:__ Text of the review\n",
    "* __summary:__ Summary of the review\n",
    "* __verified:__ Whether the purchase was verified (True or False)\n",
    "* __time:__ UNIX timestamp for the review\n",
    "* __log\\_votes:__ Logarithm-adjusted votes log(1+votes)\n",
    "* __isPositive:__ Whether the review is positive or negative (1 or 0)\n",
    "\n",
    "\n",
    "---\n",
    "\n",
    "You will be presented with two kinds of exercises throughout the notebook: activities and challenges. <br/>\n",
    "\n",
    "| <img style=\"float: center;\" src=\"images/activity.png\" alt=\"Activity\" width=\"125\"/>| <img style=\"float: center;\" src=\"images/challenge.png\" alt=\"Challenge\" width=\"125\"/>|\n",
    "| --- | --- |\n",
    "|<p style=\"text-align:center;\">No coding is needed for an activity. You try to understand a concept, <br/>answer questions, or run a code cell.</p> |<p style=\"text-align:center;\">Challenges are where you can practice your coding skills.</p> |\n"
   ]
  },
  {
   "cell_type": "markdown",
   "id": "0ddc56e8-353d-4511-a225-eb2521cf946a",
   "metadata": {},
   "source": [
    "## Index\n",
    "\n",
    "1. [Reading and formatting the dataset](#Reading-and-formatting-the-dataset)\n",
    "1. [Loading the pre-trained model](#Loading-the-pre-trained-model)\n",
    "1. [Training and testing the model](#Training-and-testing-the-model)\n",
    "1. [Getting predictions on the test data](#Getting-predictions-on-the-test-data)"
   ]
  },
  {
   "cell_type": "code",
   "execution_count": 1,
   "id": "704d3332",
   "metadata": {
    "tags": []
   },
   "outputs": [
    {
     "name": "stdout",
     "output_type": "stream",
     "text": [
      "\u001b[31mERROR: pip's dependency resolver does not currently take into account all the packages that are installed. This behaviour is the source of the following dependency conflicts.\n",
      "autovizwidget 0.21.0 requires pandas<2.0.0,>=0.20.1, but you have pandas 2.0.3 which is incompatible.\n",
      "hdijupyterutils 0.21.0 requires pandas<2.0.0,>=0.17.1, but you have pandas 2.0.3 which is incompatible.\n",
      "sparkmagic 0.21.0 requires pandas<2.0.0,>=0.17.1, but you have pandas 2.0.3 which is incompatible.\u001b[0m\u001b[31m\n",
      "\u001b[0m"
     ]
    }
   ],
   "source": [
    "!pip install -U -q -r requirements.txt"
   ]
  },
  {
   "cell_type": "markdown",
   "id": "a9f3c795",
   "metadata": {},
   "source": [
    "## Reading and formatting the dataset\n",
    "\n",
    "First, you need to read in the product review dataset and prepare it for the BERT model. To keep the training time down, you will only use the first 2000 data points from the dataset. If you want to improve your model after you understand how to train, you can use more data to train a new model."
   ]
  },
  {
   "cell_type": "code",
   "execution_count": 2,
   "id": "f782fdf3",
   "metadata": {
    "tags": []
   },
   "outputs": [],
   "source": [
    "import os\n",
    "import sys\n",
    "import time\n",
    "import torch\n",
    "import pandas as pd\n",
    "from sklearn.model_selection import train_test_split\n",
    "from transformers import DistilBertForSequenceClassification, DistilBertTokenizerFast\n",
    "from torch.utils.data import DataLoader\n",
    "\n",
    "# Import system library and append path\n",
    "sys.path.insert(1, '..')\n",
    "\n",
    "# Setting tokenizer parallelism to false\n",
    "os.environ[\"TOKENIZERS_PARALLELISM\"] = \"false\"\n",
    "\n",
    "# Import utility functions that provide answers to challenges\n",
    "from MLUDTI_EN_M2_Lab5_quiz_questions import *"
   ]
  },
  {
   "cell_type": "markdown",
   "id": "926dfe2d",
   "metadata": {},
   "source": [
    "Read the dataset."
   ]
  },
  {
   "cell_type": "code",
   "execution_count": 3,
   "id": "af83f37b",
   "metadata": {
    "tags": []
   },
   "outputs": [],
   "source": [
    "df = pd.read_csv(\"data/NLP-REVIEW-DATA-CLASSIFICATION-TRAINING.csv\")"
   ]
  },
  {
   "cell_type": "markdown",
   "id": "f0c2a4ec",
   "metadata": {},
   "source": [
    "Print the dataset information to see the field types."
   ]
  },
  {
   "cell_type": "code",
   "execution_count": 4,
   "id": "2cc624ca",
   "metadata": {
    "tags": []
   },
   "outputs": [
    {
     "name": "stdout",
     "output_type": "stream",
     "text": [
      "<class 'pandas.core.frame.DataFrame'>\n",
      "RangeIndex: 56000 entries, 0 to 55999\n",
      "Data columns (total 7 columns):\n",
      " #   Column      Non-Null Count  Dtype  \n",
      "---  ------      --------------  -----  \n",
      " 0   ID          56000 non-null  int64  \n",
      " 1   reviewText  55989 non-null  object \n",
      " 2   summary     55987 non-null  object \n",
      " 3   verified    56000 non-null  bool   \n",
      " 4   time        56000 non-null  int64  \n",
      " 5   log_votes   56000 non-null  float64\n",
      " 6   isPositive  56000 non-null  int64  \n",
      "dtypes: bool(1), float64(1), int64(3), object(2)\n",
      "memory usage: 2.6+ MB\n"
     ]
    }
   ],
   "source": [
    "df.info()"
   ]
  },
  {
   "cell_type": "markdown",
   "id": "654a4c80",
   "metadata": {},
   "source": [
    "You do not need any of the rows that do not have __reviewText__, so drop them."
   ]
  },
  {
   "cell_type": "code",
   "execution_count": 5,
   "id": "e4f993d4",
   "metadata": {
    "tags": []
   },
   "outputs": [],
   "source": [
    "df.dropna(subset=[\"reviewText\"], inplace=True)"
   ]
  },
  {
   "cell_type": "markdown",
   "id": "18efeb89-d57e-41b5-afa9-0d4fea1bf745",
   "metadata": {},
   "source": [
    "<div style=\"border: 4px solid coral; text-align: center; margin: auto;\">\n",
    "    <h2><i>Try it Yourself!</i></h2>\n",
    "    <br>\n",
    "    <p style=\"text-align:center;margin:auto;\"><img src=\"images/activity.png\" alt=\"Activity\" width=\"100\" /> </p>\n",
    "    <p style=\" text-align: center; margin: auto;\">Answer the question below to test your understanding of epochs and learning rate.</p>\n",
    "    <br>\n",
    "</div>"
   ]
  },
  {
   "cell_type": "code",
   "execution_count": 6,
   "id": "caafb228-0fb2-4d35-8b95-2bed396a0714",
   "metadata": {
    "tags": []
   },
   "outputs": [
    {
     "data": {
      "text/html": [
       "\n",
       "        <script>var Quiz=function(){\"use strict\";var M=document.createElement(\"style\");M.textContent=`.quiz-wrapper.svelte-fk6ar3{padding:1rem}.footer.svelte-fk6ar3{display:flex;align-items:center}h2.svelte-fk6ar3{font-size:1.5rem;margin-bottom:2rem;color:#232f3e}p.svelte-fk6ar3{font-size:16px}.options.svelte-fk6ar3{display:grid;grid-template-columns:repeat(2,50%);grid-template-rows:repeat(2,1fr);width:100%;margin:auto;justify-content:center}.mlu-quizquestion-option-button.svelte-fk6ar3{padding:1rem;margin:.5rem}.submit-button.svelte-fk6ar3{padding:1rem;margin:.5rem;width:90px;color:#fff;background-color:coral}.active.svelte-fk6ar3{background-color:#232f3e;color:#fff}.correct-answer.svelte-fk6ar3{background-color:green}.incorrect-answer.svelte-fk6ar3{background-color:red;text-decoration:line-through}.available.svelte-fk6ar3{pointer-events:none;opacity:.6}\n",
       "`,document.head.appendChild(M);function I(){}function P(e){return e()}function W(){return Object.create(null)}function O(e){e.forEach(P)}function X(e){return typeof e==\"function\"}function Z(e,t){return e!=e?t==t:e!==t||e&&typeof e==\"object\"||typeof e==\"function\"}function x(e){return Object.keys(e).length===0}function m(e,t){e.appendChild(t)}function j(e,t,n){e.insertBefore(t,n||null)}function z(e){e.parentNode&&e.parentNode.removeChild(e)}function ee(e,t){for(let n=0;n<e.length;n+=1)e[n]&&e[n].d(t)}function k(e){return document.createElement(e)}function A(e){return document.createTextNode(e)}function S(){return A(\" \")}function te(){return A(\"\")}function Y(e,t,n,r){return e.addEventListener(t,n,r),()=>e.removeEventListener(t,n,r)}function v(e,t,n){n==null?e.removeAttribute(t):e.getAttribute(t)!==n&&e.setAttribute(t,n)}function ne(e){return Array.from(e.childNodes)}function T(e,t){t=\"\"+t,e.wholeText!==t&&(e.data=t)}function p(e,t,n){e.classList[n?\"add\":\"remove\"](t)}let L;function N(e){L=e}const $=[],D=[],Q=[],F=[],re=Promise.resolve();let B=!1;function oe(){B||(B=!0,re.then(H))}function R(e){Q.push(e)}const G=new Set;let E=0;function H(){if(E!==0)return;const e=L;do{try{for(;E<$.length;){const t=$[E];E++,N(t),le(t.$$)}}catch(t){throw $.length=0,E=0,t}for(N(null),$.length=0,E=0;D.length;)D.pop()();for(let t=0;t<Q.length;t+=1){const n=Q[t];G.has(n)||(G.add(n),n())}Q.length=0}while($.length);for(;F.length;)F.pop()();B=!1,G.clear(),N(e)}function le(e){if(e.fragment!==null){e.update(),O(e.before_update);const t=e.dirty;e.dirty=[-1],e.fragment&&e.fragment.p(e.ctx,t),e.after_update.forEach(R)}}const ie=new Set;function se(e,t){e&&e.i&&(ie.delete(e),e.i(t))}function ce(e,t,n,r){const{fragment:l,after_update:i}=e.$$;l&&l.m(t,n),r||R(()=>{const s=e.$$.on_mount.map(P).filter(X);e.$$.on_destroy?e.$$.on_destroy.push(...s):O(s),e.$$.on_mount=[]}),i.forEach(R)}function fe(e,t){const n=e.$$;n.fragment!==null&&(O(n.on_destroy),n.fragment&&n.fragment.d(t),n.on_destroy=n.fragment=null,n.ctx=[])}function ue(e,t){e.$$.dirty[0]===-1&&($.push(e),oe(),e.$$.dirty.fill(0)),e.$$.dirty[t/31|0]|=1<<t%31}function ae(e,t,n,r,l,i,s,g=[-1]){const c=L;N(e);const o=e.$$={fragment:null,ctx:[],props:i,update:I,not_equal:l,bound:W(),on_mount:[],on_destroy:[],on_disconnect:[],before_update:[],after_update:[],context:new Map(t.context||(c?c.$$.context:[])),callbacks:W(),dirty:g,skip_bound:!1,root:t.target||c.$$.root};s&&s(o.root);let b=!1;if(o.ctx=n?n(e,t.props||{},(a,q,...y)=>{const h=y.length?y[0]:q;return o.ctx&&l(o.ctx[a],o.ctx[a]=h)&&(!o.skip_bound&&o.bound[a]&&o.bound[a](h),b&&ue(e,a)),q}):[],o.update(),b=!0,O(o.before_update),o.fragment=r?r(o.ctx):!1,t.target){if(t.hydrate){const a=ne(t.target);o.fragment&&o.fragment.l(a),a.forEach(z)}else o.fragment&&o.fragment.c();t.intro&&se(e.$$.fragment),ce(e,t.target,t.anchor,t.customElement),H()}N(c)}class de{$destroy(){fe(this,1),this.$destroy=I}$on(t,n){if(!X(n))return I;const r=this.$$.callbacks[t]||(this.$$.callbacks[t]=[]);return r.push(n),()=>{const l=r.indexOf(n);l!==-1&&r.splice(l,1)}}$set(t){this.$$set&&!x(t)&&(this.$$.skip_bound=!0,this.$$set(t),this.$$.skip_bound=!1)}}const be=\"\";function J(e,t,n){const r=e.slice();return r[11]=t[n],r[13]=n,r}function K(e){let t,n=e[11]+\"\",r,l,i,s;function g(){return e[9](e[13])}return{c(){t=k(\"button\"),r=A(n),l=S(),v(t,\"class\",\"mlu-quizquestion-option-button button svelte-fk6ar3\"),p(t,\"active\",e[5]===e[13]),p(t,\"correct-answer\",e[1]&&e[5]===e[13]&&e[2]==e[0].correctIndex),p(t,\"incorrect-answer\",e[1]&&e[5]===e[13]&&e[2]!=e[0].correctIndex),p(t,\"available\",e[4]&&e[1])},m(c,o){j(c,t,o),m(t,r),m(t,l),i||(s=Y(t,\"click\",g),i=!0)},p(c,o){e=c,o&1&&n!==(n=e[11]+\"\")&&T(r,n),o&32&&p(t,\"active\",e[5]===e[13]),o&39&&p(t,\"correct-answer\",e[1]&&e[5]===e[13]&&e[2]==e[0].correctIndex),o&39&&p(t,\"incorrect-answer\",e[1]&&e[5]===e[13]&&e[2]!=e[0].correctIndex),o&18&&p(t,\"available\",e[4]&&e[1])},d(c){c&&z(t),i=!1,s()}}}function U(e){let t;function n(i,s){return i[3]==!0?he:_e}let r=n(e),l=r(e);return{c(){l.c(),t=te()},m(i,s){l.m(i,s),j(i,t,s)},p(i,s){r!==(r=n(i))&&(l.d(1),l=r(i),l&&(l.c(),l.m(t.parentNode,t)))},d(i){l.d(i),i&&z(t)}}}function _e(e){let t;return{c(){t=k(\"p\"),t.textContent=\"This is not the correct answer. Try again!\",v(t,\"class\",\"svelte-fk6ar3\")},m(n,r){j(n,t,r)},d(n){n&&z(t)}}}function he(e){let t;return{c(){t=k(\"p\"),t.textContent=\"Good! You got the correct answer.\",v(t,\"class\",\"svelte-fk6ar3\")},m(n,r){j(n,t,r)},d(n){n&&z(t)}}}function me(e){let t,n,r=e[0].question+\"\",l,i,s,g,c,o,b=e[1]?\"Retry\":\"Submit\",a,q,y,h,C=e[0].options,d=[];for(let f=0;f<C.length;f+=1)d[f]=K(J(e,C,f));let _=e[1]&&U(e);return{c(){t=k(\"div\"),n=k(\"h2\"),l=A(r),i=S(),s=k(\"div\");for(let f=0;f<d.length;f+=1)d[f].c();g=S(),c=k(\"div\"),o=k(\"button\"),a=A(b),q=S(),_&&_.c(),v(n,\"class\",\"svelte-fk6ar3\"),v(s,\"class\",\"options svelte-fk6ar3\"),v(o,\"class\",\"submit-button svelte-fk6ar3\"),p(o,\"available\",!e[4]),v(c,\"class\",\"footer svelte-fk6ar3\"),v(t,\"class\",\"quiz-wrapper svelte-fk6ar3\")},m(f,w){j(f,t,w),m(t,n),m(n,l),m(t,i),m(t,s);for(let u=0;u<d.length;u+=1)d[u].m(s,null);m(t,g),m(t,c),m(c,o),m(o,a),m(c,q),_&&_.m(c,null),y||(h=Y(o,\"click\",e[10]),y=!0)},p(f,[w]){if(w&1&&r!==(r=f[0].question+\"\")&&T(l,r),w&311){C=f[0].options;let u;for(u=0;u<C.length;u+=1){const V=J(f,C,u);d[u]?d[u].p(V,w):(d[u]=K(V),d[u].c(),d[u].m(s,null))}for(;u<d.length;u+=1)d[u].d(1);d.length=C.length}w&2&&b!==(b=f[1]?\"Retry\":\"Submit\")&&T(a,b),w&16&&p(o,\"available\",!f[4]),f[1]?_?_.p(f,w):(_=U(f),_.c(),_.m(c,null)):_&&(_.d(1),_=null)},i:I,o:I,d(f){f&&z(t),ee(d,f),_&&_.d(),y=!1,h()}}}function pe(e,t,n){let{question:r={question:\"Who didn't attend this meeting?\",options:[\"Xin\",\"Anand\",\"Brent\"],correctIndex:2}}=t,l=!1,i=-1,s=\"no\",g=!1,c;function o(){n(4,g=!1),n(1,l=!1),n(2,i=-1),n(5,c=-1),n(3,s=\"no\")}function b(){n(1,l=!0),n(3,s=i==r.correctIndex)}function a(h){n(4,g=!0),n(2,i=h),n(5,c=h)}const q=h=>a(h),y=()=>l?o():b();return e.$$set=h=>{\"question\"in h&&n(0,r=h.question)},[r,l,i,s,g,c,o,b,a,q,y]}class ge extends de{constructor(t){super(),ae(this,t,pe,me,Z,{question:0})}}return ge}();\n",
       "</script>\n",
       "        \n",
       "        <div id=\"Quiz-1cdadb41\"></div>\n",
       "        <script>\n",
       "        (() => {\n",
       "            var data = {\n",
       "\"question\": {\n",
       "\"question\": \"Why did you drop all rows where reviewText is empty?\",\n",
       "\"options\": [\n",
       "\"This action makes the dataset the correct size for training.\",\n",
       "\"If reviewText is empty for a row, then the model doesn't have anything to train on for that row.\",\n",
       "\"The reviewText feature isn't used in this model, so rows with reviewText can be dropped.\"\n",
       "],\n",
       "\"correctIndex\": 1\n",
       "}\n",
       "};\n",
       "            window.Quiz_data = data;\n",
       "            var Quiz_inst = new Quiz({\n",
       "                \"target\": document.getElementById(\"Quiz-1cdadb41\"),\n",
       "                \"props\": data\n",
       "            });\n",
       "        })();\n",
       "        </script>\n",
       "        \n",
       "        "
      ],
      "text/plain": [
       "<MLUDTI_EN_M2_Lab5_quiz_questions.Quiz at 0x7ff0e72f89a0>"
      ]
     },
     "execution_count": 6,
     "metadata": {},
     "output_type": "execute_result"
    }
   ],
   "source": [
    "question_1"
   ]
  },
  {
   "cell_type": "markdown",
   "id": "47d2e21c",
   "metadata": {},
   "source": [
    "BERT requires a lot of compute power for large datasets. To reduce the amount of time it takes to train the model, you will only use the first 2,000 data points for this lab. "
   ]
  },
  {
   "cell_type": "code",
   "execution_count": 7,
   "id": "342b01ba",
   "metadata": {
    "tags": []
   },
   "outputs": [],
   "source": [
    "df = df.head(2000)"
   ]
  },
  {
   "cell_type": "markdown",
   "id": "6bd2d8b9",
   "metadata": {},
   "source": [
    "Now split the dataset into training and validation data sets, keeping 10% of the data for validation."
   ]
  },
  {
   "cell_type": "code",
   "execution_count": 8,
   "id": "0bbdd5fe",
   "metadata": {
    "tags": []
   },
   "outputs": [],
   "source": [
    "# This separates 10% of the entire dataset into validation dataset.\n",
    "train_texts, val_texts, train_labels, val_labels = train_test_split(\n",
    "    df[\"reviewText\"].tolist(),\n",
    "    df[\"isPositive\"].tolist(),\n",
    "    test_size=0.10,\n",
    "    shuffle=True,\n",
    "    random_state=324,\n",
    "    stratify = df[\"isPositive\"].tolist(),\n",
    ")"
   ]
  },
  {
   "cell_type": "markdown",
   "id": "ec2f7323",
   "metadata": {},
   "source": [
    "You need to tokenize the data. To do this, use a special tokenizer built for the DistilBERT model to tokenize the training and validation texts. "
   ]
  },
  {
   "cell_type": "code",
   "execution_count": 9,
   "id": "db5ff8f4",
   "metadata": {
    "tags": []
   },
   "outputs": [
    {
     "data": {
      "application/vnd.jupyter.widget-view+json": {
       "model_id": "325a5bcea2bd4cde83bc2c57e052eb4c",
       "version_major": 2,
       "version_minor": 0
      },
      "text/plain": [
       "tokenizer_config.json:   0%|          | 0.00/28.0 [00:00<?, ?B/s]"
      ]
     },
     "metadata": {},
     "output_type": "display_data"
    },
    {
     "data": {
      "application/vnd.jupyter.widget-view+json": {
       "model_id": "57cbeecce8f1419bbdacfea94f89325f",
       "version_major": 2,
       "version_minor": 0
      },
      "text/plain": [
       "vocab.txt:   0%|          | 0.00/232k [00:00<?, ?B/s]"
      ]
     },
     "metadata": {},
     "output_type": "display_data"
    },
    {
     "data": {
      "application/vnd.jupyter.widget-view+json": {
       "model_id": "98c254595f3e418da513c486f46efc25",
       "version_major": 2,
       "version_minor": 0
      },
      "text/plain": [
       "tokenizer.json:   0%|          | 0.00/466k [00:00<?, ?B/s]"
      ]
     },
     "metadata": {},
     "output_type": "display_data"
    },
    {
     "data": {
      "application/vnd.jupyter.widget-view+json": {
       "model_id": "4b5e47cd9ee442b59ff1fded95173b31",
       "version_major": 2,
       "version_minor": 0
      },
      "text/plain": [
       "config.json:   0%|          | 0.00/483 [00:00<?, ?B/s]"
      ]
     },
     "metadata": {},
     "output_type": "display_data"
    }
   ],
   "source": [
    "tokenizer = DistilBertTokenizerFast.from_pretrained('distilbert-base-uncased')\n",
    "\n",
    "train_encodings = tokenizer(train_texts,\n",
    "                            truncation=True,\n",
    "                            padding=True)\n",
    "val_encodings = tokenizer(val_texts,\n",
    "                          truncation=True,\n",
    "                          padding=True)"
   ]
  },
  {
   "cell_type": "markdown",
   "id": "2e92881b",
   "metadata": {},
   "source": [
    "Create a new `ReviewDataset` class to use with the BERT model. Later, you use the training and validation encoding-label pairs with this new class."
   ]
  },
  {
   "cell_type": "code",
   "execution_count": 10,
   "id": "332a8e2a",
   "metadata": {
    "tags": []
   },
   "outputs": [],
   "source": [
    "class ReviewDataset(torch.utils.data.Dataset):\n",
    "    def __init__(self, encodings, labels):\n",
    "        self.encodings = encodings\n",
    "        self.labels = labels\n",
    "\n",
    "    def __getitem__(self, idx):\n",
    "        item = {key: torch.tensor(val[idx]).to(device) for key, val in self.encodings.items()}\n",
    "        item[\"labels\"] = torch.tensor(self.labels[idx]).to(device)\n",
    "        return item\n",
    "\n",
    "    def __len__(self):\n",
    "        return len(self.labels)\n",
    "    \n",
    "train_dataset = ReviewDataset(train_encodings, train_labels)\n",
    "val_dataset = ReviewDataset(val_encodings, val_labels)"
   ]
  },
  {
   "cell_type": "markdown",
   "id": "24bbfae6",
   "metadata": {},
   "source": [
    "## Loading the pre-trained model\n",
    "\n",
    "Now, you need to load the model. When you do this, several warnings will print that are related to the last classification layer of BERT where you are using a randomly initialized layer. You can ignore the warnings as they are not relevant to the type of training you are doing."
   ]
  },
  {
   "cell_type": "code",
   "execution_count": 11,
   "id": "a42e0ae7",
   "metadata": {
    "tags": []
   },
   "outputs": [
    {
     "data": {
      "application/vnd.jupyter.widget-view+json": {
       "model_id": "c6ca5aac987d42cb897588644c132593",
       "version_major": 2,
       "version_minor": 0
      },
      "text/plain": [
       "model.safetensors:   0%|          | 0.00/268M [00:00<?, ?B/s]"
      ]
     },
     "metadata": {},
     "output_type": "display_data"
    },
    {
     "name": "stderr",
     "output_type": "stream",
     "text": [
      "Some weights of DistilBertForSequenceClassification were not initialized from the model checkpoint at distilbert-base-uncased and are newly initialized: ['classifier.bias', 'classifier.weight', 'pre_classifier.bias', 'pre_classifier.weight']\n",
      "You should probably TRAIN this model on a down-stream task to be able to use it for predictions and inference.\n"
     ]
    }
   ],
   "source": [
    "model = DistilBertForSequenceClassification.from_pretrained(\"distilbert-base-uncased\",\n",
    "                                                            num_labels=2)"
   ]
  },
  {
   "cell_type": "markdown",
   "id": "dfa228cc",
   "metadata": {},
   "source": [
    "The last step is to freeze all weights until the very last classification layer in the BERT model. This helps accelerate the training process. Training the weights of the whole network (66 million weights) takes a long time. Additionally, 2000 data points would not be enough for that task. Instead, the code below freezes all the weights until the last classification layer. This means only a small portion of the weights gets updated (rest stays the same). This is a common practice with large language models."
   ]
  },
  {
   "cell_type": "code",
   "execution_count": 12,
   "id": "2a5468e1",
   "metadata": {
    "tags": []
   },
   "outputs": [],
   "source": [
    "# Freeze the encoder weights until the classifier\n",
    "for name, param in model.named_parameters():\n",
    "    if \"classifier\" not in name:\n",
    "        param.requires_grad = False"
   ]
  },
  {
   "cell_type": "markdown",
   "id": "e015dfe3",
   "metadata": {},
   "source": [
    "## Training and testing the model\n",
    "\n",
    "Now that your data is ready and you have configured your model, its time to start the fine-tuning process. This code will take __a long time__ (30+ minutes) to complete with large datasets, that is why you are running it on a subset of the full review dataset."
   ]
  },
  {
   "cell_type": "markdown",
   "id": "b75a0f41",
   "metadata": {},
   "source": [
    "First, define the accuracy function."
   ]
  },
  {
   "cell_type": "code",
   "execution_count": 13,
   "id": "e62a035a",
   "metadata": {
    "tags": []
   },
   "outputs": [],
   "source": [
    "def calculate_accuracy(output, label):\n",
    "    \"\"\"Calculate the accuracy of the trained network. \n",
    "    output: (batch_size, num_output) float32 tensor\n",
    "    label: (batch_size, ) int32 tensor \"\"\"\n",
    "    \n",
    "    return (output.argmax(axis=1) == label.float()).float().mean()"
   ]
  },
  {
   "cell_type": "markdown",
   "id": "f9ca5e8a",
   "metadata": {},
   "source": [
    "Now you need to create the tranining and validation loop. This loop will be similar to the previous train/validation loops, however there are a few extra parameters needed due to the transformer architecture. \n",
    "\n",
    "You need to use the `attention_mask` and get the loss from the output of the model with `loss = output[0]`"
   ]
  },
  {
   "cell_type": "code",
   "execution_count": 14,
   "id": "78e98aec",
   "metadata": {
    "tags": []
   },
   "outputs": [
    {
     "name": "stdout",
     "output_type": "stream",
     "text": [
      "Epoch 1: train loss 0.655, train acc 0.614, val loss 0.636, val acc 0.620, seconds  29.584 \n",
      "Epoch 2: train loss 0.629, train acc 0.626, val loss 0.606, val acc 0.640, seconds  29.496 \n",
      "Epoch 3: train loss 0.604, train acc 0.652, val loss 0.579, val acc 0.685, seconds  29.549 \n",
      "Epoch 4: train loss 0.582, train acc 0.691, val loss 0.553, val acc 0.720, seconds  29.769 \n",
      "Epoch 5: train loss 0.555, train acc 0.729, val loss 0.535, val acc 0.800, seconds  29.913 \n",
      "Epoch 6: train loss 0.535, train acc 0.746, val loss 0.505, val acc 0.800, seconds  29.979 \n",
      "Epoch 7: train loss 0.513, train acc 0.760, val loss 0.481, val acc 0.795, seconds  29.975 \n",
      "Epoch 8: train loss 0.499, train acc 0.779, val loss 0.461, val acc 0.815, seconds  29.982 \n",
      "Epoch 9: train loss 0.481, train acc 0.780, val loss 0.443, val acc 0.815, seconds  29.975 \n",
      "Epoch 10: train loss 0.461, train acc 0.809, val loss 0.425, val acc 0.830, seconds  29.971 \n"
     ]
    }
   ],
   "source": [
    "# Hyperparameters\n",
    "num_epochs = 10\n",
    "learning_rate = 0.005\n",
    "\n",
    "# Get the compute device\n",
    "device = torch.device(\"cuda\" if torch.cuda.is_available() else \"cpu\")\n",
    "\n",
    "# Create data loaders\n",
    "train_loader = DataLoader(train_dataset, shuffle=True,\n",
    "                          batch_size=16, drop_last=True)\n",
    "validation_loader = DataLoader(val_dataset, batch_size=8,\n",
    "                               drop_last=True)\n",
    "\n",
    "# Setup the optimizer\n",
    "optimizer = torch.optim.SGD(model.parameters(), lr=learning_rate)\n",
    "\n",
    "model = model.to(device)\n",
    "\n",
    "for epoch in range(num_epochs):\n",
    "    \n",
    "    train_loss, val_loss, train_acc, valid_acc = 0., 0., 0., 0.\n",
    "    \n",
    "    start = time.time()\n",
    "    # Training loop starts\n",
    "    model.train() # put the model in training mode\n",
    "    for batch in train_loader:\n",
    "        # Zero the parameter gradients\n",
    "        optimizer.zero_grad()\n",
    "        # Put data, label and attention mask to the correct device\n",
    "        data = batch[\"input_ids\"].to(device)\n",
    "        attention_mask = batch['attention_mask'].to(device)\n",
    "        label = batch[\"labels\"].to(device)\n",
    "        \n",
    "        # Make forward pass\n",
    "        output = model(data, attention_mask=attention_mask, labels=label)\n",
    "        \n",
    "        # Calculate the loss (this comes from the output)\n",
    "        loss = output[0]\n",
    "        # Make backwards pass (calculate gradients)\n",
    "        loss.backward()\n",
    "        # Accumulate training accuracy and loss\n",
    "        train_acc += calculate_accuracy(output.logits, label).item()\n",
    "        train_loss += loss.item()\n",
    "        # Update weights\n",
    "        optimizer.step()\n",
    "    \n",
    "    # Validation loop:\n",
    "    # This loop tests the trained network on validation dataset\n",
    "    # No weight updates here\n",
    "    # torch.no_grad() reduces memory usage when not training the network\n",
    "    model.eval() # Activate evaluation mode\n",
    "    with torch.no_grad():\n",
    "        for batch in validation_loader:\n",
    "            data = batch[\"input_ids\"].to(device)\n",
    "            attention_mask = batch['attention_mask'].to(device)\n",
    "            label = batch[\"labels\"].to(device)\n",
    "            # Make forward pass with the trained model so far\n",
    "            output = model(data, attention_mask=attention_mask, labels=label)\n",
    "            # Accumulate validation accuracy and loss\n",
    "            valid_acc += calculate_accuracy(output.logits, label).item()\n",
    "            val_loss += output[0].item()\n",
    "        \n",
    "    # Take averages\n",
    "    train_loss /= len(train_loader)\n",
    "    train_acc /= len(train_loader)\n",
    "    val_loss /= len(validation_loader)\n",
    "    valid_acc /= len(validation_loader)\n",
    "    \n",
    "    end = time.time()\n",
    "    \n",
    "    print(\"Epoch %d: train loss %.3f, train acc %.3f, val loss %.3f, val acc %.3f, seconds % .3f \" % (\n",
    "        epoch+1, train_loss, train_acc, val_loss, valid_acc, end-start))"
   ]
  },
  {
   "cell_type": "markdown",
   "id": "a3f7ce78",
   "metadata": {},
   "source": [
    "### Looking at what's going on\n",
    "\n",
    "The fine-tuned BERT model is able to correctly classify the sentiment of the most of the records in the validation set. Let's observe in more detail how the sentences are tokenized and encoded. You can do this by picking one sentence as example to look at."
   ]
  },
  {
   "cell_type": "code",
   "execution_count": 15,
   "id": "195dd23a",
   "metadata": {
    "tags": []
   },
   "outputs": [
    {
     "name": "stdout",
     "output_type": "stream",
     "text": [
      "Sentence: An excellent resource for all scanner owners.  Seems to be up to date and all inclusive.  I highly recommend this product!\n",
      "Encoded Sentence: [101, 2019, 6581, 7692, 2005, 2035, 26221, 5608, 1012, 3849, 2000, 2022, 2039, 2000, 3058, 1998, 2035, 18678, 1012, 1045, 3811, 16755, 2023, 4031, 999, 102]\n"
     ]
    }
   ],
   "source": [
    "st = val_texts[19]\n",
    "print(f\"Sentence: {st}\")\n",
    "tok = tokenizer(st, truncation=True, padding=True)\n",
    "print(f\"Encoded Sentence: {tok['input_ids']}\")"
   ]
  },
  {
   "cell_type": "markdown",
   "id": "e5359be5",
   "metadata": {},
   "source": [
    "Print the vocabulary size."
   ]
  },
  {
   "cell_type": "code",
   "execution_count": 16,
   "id": "4c78bc31",
   "metadata": {
    "tags": []
   },
   "outputs": [
    {
     "data": {
      "text/plain": [
       "30522"
      ]
     },
     "execution_count": 16,
     "metadata": {},
     "output_type": "execute_result"
    }
   ],
   "source": [
    "# The mapped vocabulary is stored in tokenizer.vocab\n",
    "tokenizer.vocab_size"
   ]
  },
  {
   "cell_type": "markdown",
   "id": "f738febb",
   "metadata": {},
   "source": [
    "Use the encoded sentence with the tokenizer to recover the original sentence. "
   ]
  },
  {
   "cell_type": "code",
   "execution_count": 17,
   "id": "5d8ae225",
   "metadata": {
    "tags": []
   },
   "outputs": [
    {
     "name": "stdout",
     "output_type": "stream",
     "text": [
      "['[CLS]', 'an', 'excellent', 'resource', 'for', 'all', 'scanner', 'owners', '.', 'seems', 'to', 'be', 'up', 'to', 'date', 'and', 'all', 'inclusive', '.', 'i', 'highly', 'recommend', 'this', 'product', '!', '[SEP]']\n"
     ]
    }
   ],
   "source": [
    "# Methods convert_ids_to_tokens and convert_tokens_to_ids allow to see how sentences are tokenized\n",
    "print(tokenizer.convert_ids_to_tokens(tok[\"input_ids\"]))"
   ]
  },
  {
   "cell_type": "markdown",
   "id": "89346761",
   "metadata": {},
   "source": [
    "## Getting predictions on the test data\n",
    "\n",
    "After the model is trained, you can focus on getting test data to make predictions with. Do this by:\n",
    "- Reading and format the test dataset\n",
    "- Passing the test data to your trained model and make predictions"
   ]
  },
  {
   "cell_type": "code",
   "execution_count": 18,
   "id": "dd36b78b",
   "metadata": {
    "tags": []
   },
   "outputs": [
    {
     "data": {
      "text/html": [
       "<div>\n",
       "<style scoped>\n",
       "    .dataframe tbody tr th:only-of-type {\n",
       "        vertical-align: middle;\n",
       "    }\n",
       "\n",
       "    .dataframe tbody tr th {\n",
       "        vertical-align: top;\n",
       "    }\n",
       "\n",
       "    .dataframe thead th {\n",
       "        text-align: right;\n",
       "    }\n",
       "</style>\n",
       "<table border=\"1\" class=\"dataframe\">\n",
       "  <thead>\n",
       "    <tr style=\"text-align: right;\">\n",
       "      <th></th>\n",
       "      <th>ID</th>\n",
       "      <th>reviewText</th>\n",
       "      <th>summary</th>\n",
       "      <th>verified</th>\n",
       "      <th>time</th>\n",
       "      <th>log_votes</th>\n",
       "    </tr>\n",
       "  </thead>\n",
       "  <tbody>\n",
       "    <tr>\n",
       "      <th>0</th>\n",
       "      <td>33276</td>\n",
       "      <td>I've been using greeting card software for wel...</td>\n",
       "      <td>Absolutely awful.</td>\n",
       "      <td>False</td>\n",
       "      <td>1300233600</td>\n",
       "      <td>0.000000</td>\n",
       "    </tr>\n",
       "    <tr>\n",
       "      <th>1</th>\n",
       "      <td>20859</td>\n",
       "      <td>This version worked well for me, have upgraded...</td>\n",
       "      <td>Good for virtual machine on a mac</td>\n",
       "      <td>True</td>\n",
       "      <td>1448755200</td>\n",
       "      <td>0.000000</td>\n",
       "    </tr>\n",
       "    <tr>\n",
       "      <th>2</th>\n",
       "      <td>63500</td>\n",
       "      <td>Great!</td>\n",
       "      <td>Five Stars</td>\n",
       "      <td>True</td>\n",
       "      <td>1456963200</td>\n",
       "      <td>0.000000</td>\n",
       "    </tr>\n",
       "    <tr>\n",
       "      <th>3</th>\n",
       "      <td>4950</td>\n",
       "      <td>I can assure you that any five star review was...</td>\n",
       "      <td>SCAM</td>\n",
       "      <td>False</td>\n",
       "      <td>1400803200</td>\n",
       "      <td>2.197225</td>\n",
       "    </tr>\n",
       "    <tr>\n",
       "      <th>4</th>\n",
       "      <td>26509</td>\n",
       "      <td>Overall the product really seems the same but ...</td>\n",
       "      <td>Has potential but many glitches and really the...</td>\n",
       "      <td>False</td>\n",
       "      <td>1419206400</td>\n",
       "      <td>0.000000</td>\n",
       "    </tr>\n",
       "  </tbody>\n",
       "</table>\n",
       "</div>"
      ],
      "text/plain": [
       "      ID                                         reviewText  \\\n",
       "0  33276  I've been using greeting card software for wel...   \n",
       "1  20859  This version worked well for me, have upgraded...   \n",
       "2  63500                                             Great!   \n",
       "3   4950  I can assure you that any five star review was...   \n",
       "4  26509  Overall the product really seems the same but ...   \n",
       "\n",
       "                                             summary  verified        time  \\\n",
       "0                                  Absolutely awful.     False  1300233600   \n",
       "1                  Good for virtual machine on a mac      True  1448755200   \n",
       "2                                         Five Stars      True  1456963200   \n",
       "3                                               SCAM     False  1400803200   \n",
       "4  Has potential but many glitches and really the...     False  1419206400   \n",
       "\n",
       "   log_votes  \n",
       "0   0.000000  \n",
       "1   0.000000  \n",
       "2   0.000000  \n",
       "3   2.197225  \n",
       "4   0.000000  "
      ]
     },
     "execution_count": 18,
     "metadata": {},
     "output_type": "execute_result"
    }
   ],
   "source": [
    "# Read the test data (It doesn't have the isPositive label)\n",
    "df_test = pd.read_csv(\"data/NLP-REVIEW-DATA-CLASSIFICATION-TEST.csv\")\n",
    "df_test.head()"
   ]
  },
  {
   "cell_type": "markdown",
   "id": "d6477c10",
   "metadata": {},
   "source": [
    "Just as before, drop the rows that don't have the __reviewText__."
   ]
  },
  {
   "cell_type": "code",
   "execution_count": 19,
   "id": "4cb479bf",
   "metadata": {
    "tags": []
   },
   "outputs": [],
   "source": [
    "df_test.dropna(subset=[\"reviewText\"], inplace=True)"
   ]
  },
  {
   "cell_type": "markdown",
   "id": "0588e159",
   "metadata": {},
   "source": [
    "Making predictions will also take a long time with this model. To get results quickly, start by only making predictions with 15 datapoints from the test set."
   ]
  },
  {
   "cell_type": "code",
   "execution_count": 20,
   "id": "4a35daf7",
   "metadata": {
    "tags": []
   },
   "outputs": [],
   "source": [
    "test_texts = df_test[\"reviewText\"].tolist()[0:15]"
   ]
  },
  {
   "cell_type": "code",
   "execution_count": 21,
   "id": "f19e9cba",
   "metadata": {
    "tags": []
   },
   "outputs": [],
   "source": [
    "test_encodings = tokenizer(test_texts,\n",
    "                           truncation=True,\n",
    "                           padding=True)"
   ]
  },
  {
   "cell_type": "markdown",
   "id": "6640fe83",
   "metadata": {},
   "source": [
    "Create labels for the test dataset to pass zeros using `[0]*len(test_texts)`."
   ]
  },
  {
   "cell_type": "code",
   "execution_count": 22,
   "id": "25e8ba88",
   "metadata": {
    "tags": []
   },
   "outputs": [],
   "source": [
    "test_dataset = ReviewDataset(test_encodings, [0]*len(test_texts))"
   ]
  },
  {
   "cell_type": "markdown",
   "id": "78fbb780",
   "metadata": {},
   "source": [
    "Then, create a dataloader for the test set and record the corresponding predictions."
   ]
  },
  {
   "cell_type": "code",
   "execution_count": 23,
   "id": "4012e571",
   "metadata": {
    "tags": []
   },
   "outputs": [],
   "source": [
    "test_loader = DataLoader(test_dataset, batch_size=4)\n",
    "test_predictions = []\n",
    "model.eval()\n",
    "\n",
    "with torch.no_grad():\n",
    "    for batch in test_loader:\n",
    "        data = batch[\"input_ids\"].to(device)\n",
    "        attention_mask = batch['attention_mask'].to(device)\n",
    "        label = batch[\"labels\"].to(device)\n",
    "        output = model(data, attention_mask=attention_mask, labels=label)\n",
    "        predictions = torch.argmax(output.logits, dim=-1)\n",
    "        test_predictions.extend(predictions.cpu().numpy())"
   ]
  },
  {
   "cell_type": "markdown",
   "id": "7202c1f0",
   "metadata": {},
   "source": [
    "Finally, pick an example sentence and examine the prediction. Does the prediction look correct? \n",
    "\n",
    "Remember \n",
    "\n",
    "- 1->positive class \n",
    "- 0->negative class"
   ]
  },
  {
   "cell_type": "code",
   "execution_count": 24,
   "id": "f674a041",
   "metadata": {
    "tags": []
   },
   "outputs": [
    {
     "name": "stdout",
     "output_type": "stream",
     "text": [
      "Text: I have been using this product for five or six years.  This purchase was my annual subscription renewal.  It has the features that I need, and seems to protect the three PC's that we have while using the internet.  I will be looking at the mobile apps for a tablet and smart phone.\n",
      "Prediction: 1\n"
     ]
    }
   ],
   "source": [
    "k = 13\n",
    "print(f'Text: {test_texts[k]}')\n",
    "print(f'Prediction: {test_predictions[k]}')"
   ]
  },
  {
   "cell_type": "markdown",
   "id": "193c89a3",
   "metadata": {},
   "source": [
    "<div style=\"border: 4px solid coral; text-align: center; margin: auto;\">\n",
    "    <h2><i>Try it Yourself!</i></h2>\n",
    "    <br>\n",
    "    <p style=\"text-align:center; margin:auto;\"><img src=\"images/challenge.png\" alt=\"Challenge\" width=\"100\" /> </p>\n",
    "    <p style=\"margin: auto; text-align: center; margin: auto;\">You trained the model for 10 epochs. Would you get better results from the validation dataset if the model trained longer?</p> <br>\n",
    "    <p style=\"margin: auto; text-align: center; margin: auto;\">Make a note of your last <code> Val_loss </code> result.</p> \n",
    "    <p style=\"margin: auto; text-align: center; margin: auto;\">Then, in the <a href=\"#Training-and-testing-the-model\">Training and testing the model</a> section, change the <code> num_epochs </code> parameter to <code>20</code>.</p>\n",
    "    <p style=\"margin: auto; text-align: center; margin: auto;\">Finally, re-run the code blocks to load the pre-trained model, and train your model.</p>\n",
    "    <p style=\"margin: auto; text-align: center; margin: auto;\">Did <code>Val_loss</code> improve?</p>\n",
    "    </ol>    \n",
    "</div>"
   ]
  },
  {
   "cell_type": "markdown",
   "id": "121ece07",
   "metadata": {},
   "source": [
    "----\n",
    "## Conclusion\n",
    "\n",
    "In this lab you learned how to import a pre-trained Transformer model and fine-tune it for a specific task. Although you used a lighter version of the BERT model, these types of models tend to use large amounts of compute power. For that reason, you only worked with the first 2000 datapoints of the dataset. To see more general results, you need to spend more time training while using the whole dataset. \n",
    "\n",
    "## Next Lab: Reading and plotting images\n",
    "In the next lab you will learn how to read images and plot them as you start to learn about computer vision problems.\n"
   ]
  }
 ],
 "metadata": {
  "kernelspec": {
   "display_name": "conda_pytorch_p310",
   "language": "python",
   "name": "conda_pytorch_p310"
  },
  "language_info": {
   "codemirror_mode": {
    "name": "ipython",
    "version": 3
   },
   "file_extension": ".py",
   "mimetype": "text/x-python",
   "name": "python",
   "nbconvert_exporter": "python",
   "pygments_lexer": "ipython3",
   "version": "3.10.13"
  }
 },
 "nbformat": 4,
 "nbformat_minor": 5
}
